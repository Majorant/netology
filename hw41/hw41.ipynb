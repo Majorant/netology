{
 "cells": [
  {
   "cell_type": "code",
   "execution_count": 1,
   "metadata": {
    "collapsed": false
   },
   "outputs": [],
   "source": [
    "import pandas as pd\n",
    "from os import path, getcwd\n",
    "\n",
    "PATH = '/home/me/temp/names/'"
   ]
  },
  {
   "cell_type": "code",
   "execution_count": 2,
   "metadata": {
    "collapsed": true
   },
   "outputs": [],
   "source": [
    "def get_filename(age):\n",
    "    \"\"\"возвращает путь к файлу относительно текущей папки\"\"\"\n",
    "    filename = path.join(PATH, 'yob{}.txt'.format(age))\n",
    "    return filename"
   ]
  },
  {
   "cell_type": "markdown",
   "metadata": {},
   "source": [
    "#### функция добавления года к колонкам count\n",
    "\n",
    "def get_suffixes(age, lst_ages):\n",
    "    # return suffixes\n",
    "    suffix_prev = '_' + str(lst_ages[lst_ages.index(age)-1])    \n",
    "    suf_new = '_' + str(age)     \n",
    "    return (suffix_prev, suf_new)"
   ]
  },
  {
   "cell_type": "code",
   "execution_count": 3,
   "metadata": {
    "collapsed": true
   },
   "outputs": [],
   "source": [
    "ages = [1900, 1950, 2000]"
   ]
  },
  {
   "cell_type": "markdown",
   "metadata": {},
   "source": [
    "#### срезы в DataFrame\n",
    "names.ix[:1] - это срез по строкам (до первой)\n",
    "names.ix[:, 2:] - все строки, столбца, начиная со второго\n",
    "все срезы указываются включительно! с последним\n",
    "\n",
    "#### apply & axis\n",
    "names.ix[:, 2:].apply(sum, axis='columns')\n",
    "axis = 1 равнозначно axis='columns', т.е. применяем функцию к столбцам\n",
    "\n",
    "#### добавление нового столбца\n",
    "names['count_sum'] = names.ix[:, 2:].apply(sum, axis='columns')"
   ]
  },
  {
   "cell_type": "code",
   "execution_count": 4,
   "metadata": {
    "collapsed": false
   },
   "outputs": [],
   "source": [
    "def count_top3(lst_ages):\n",
    "    pop_names = []\n",
    "    columns = ['name', 'gender', 'count']\n",
    "    names = None\n",
    "    for age in lst_ages:        \n",
    "        if names is None:\n",
    "            names = pd.read_csv(get_filename(age), names=columns)            \n",
    "        else:\n",
    "            names_new = pd.read_csv(get_filename(age), names=columns)            \n",
    "            names = pd.merge(names, names_new, on=['name', 'gender'])\n",
    "    names['count_sum'] = names.ix[:, 2:].apply(sum, axis='columns')\n",
    "    names = names.sort_values(by='count_sum', ascending=False).head(3)\n",
    "    #pop_names = [name for name in names['name']]\n",
    "    for name in names['name']:\n",
    "        pop_names.append(name)\n",
    "    return pop_names \n",
    "        "
   ]
  },
  {
   "cell_type": "code",
   "execution_count": 5,
   "metadata": {
    "collapsed": false
   },
   "outputs": [
    {
     "name": "stdout",
     "output_type": "stream",
     "text": [
      "['James', 'John', 'Robert']\n"
     ]
    }
   ],
   "source": [
    "print(count_top3(ages))"
   ]
  }
 ],
 "metadata": {
  "kernelspec": {
   "display_name": "Python 3",
   "language": "python",
   "name": "python3"
  },
  "language_info": {
   "codemirror_mode": {
    "name": "ipython",
    "version": 3
   },
   "file_extension": ".py",
   "mimetype": "text/x-python",
   "name": "python",
   "nbconvert_exporter": "python",
   "pygments_lexer": "ipython3",
   "version": "3.6.0"
  }
 },
 "nbformat": 4,
 "nbformat_minor": 2
}
